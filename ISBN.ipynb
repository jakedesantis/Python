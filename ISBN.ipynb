{
 "cells": [
  {
   "cell_type": "code",
   "execution_count": 101,
   "metadata": {},
   "outputs": [],
   "source": [
    "def isbn(input_int):\n",
    "    out = 0\n",
    "    input_str = str(input_int)\n",
    "    for i in range(1,10,1):\n",
    "        #print(\"i is now \" + str(i))\n",
    "        out = out + i * int(input_str[i-1])\n",
    "        #print(\"out is now \" + str(out))\n",
    "    out = out % 11\n",
    "    print(out)\n",
    "    print(str(input_int)+str(out))"
   ]
  },
  {
   "cell_type": "code",
   "execution_count": 102,
   "metadata": {},
   "outputs": [
    {
     "name": "stdout",
     "output_type": "stream",
     "text": [
      "2\n",
      "1839508272\n"
     ]
    }
   ],
   "source": [
    "isbn(183950827)"
   ]
  },
  {
   "cell_type": "code",
   "execution_count": 108,
   "metadata": {},
   "outputs": [],
   "source": [
    "def isbn2(input_int):\n",
    "    out = 0\n",
    "    for i in range(9,-1,-1):\n",
    "        if(i!=9):\n",
    "            out = out + (i+1) * (input_int % 10)\n",
    "        input_int = int(input_int / 10)\n",
    "    out = out % 11\n",
    "    print(out)\n"
   ]
  },
  {
   "cell_type": "code",
   "execution_count": 109,
   "metadata": {},
   "outputs": [
    {
     "name": "stdout",
     "output_type": "stream",
     "text": [
      "2\n"
     ]
    }
   ],
   "source": [
    "isbn2(1839508272)"
   ]
  }
 ],
 "metadata": {
  "kernelspec": {
   "display_name": "Python 3",
   "language": "python",
   "name": "python3"
  },
  "language_info": {
   "codemirror_mode": {
    "name": "ipython",
    "version": 3
   },
   "file_extension": ".py",
   "mimetype": "text/x-python",
   "name": "python",
   "nbconvert_exporter": "python",
   "pygments_lexer": "ipython3",
   "version": "3.7.3"
  }
 },
 "nbformat": 4,
 "nbformat_minor": 2
}
